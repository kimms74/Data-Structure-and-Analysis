{
 "metadata": {
  "language_info": {
   "codemirror_mode": {
    "name": "ipython",
    "version": 3
   },
   "file_extension": ".py",
   "mimetype": "text/x-python",
   "name": "python",
   "nbconvert_exporter": "python",
   "pygments_lexer": "ipython3",
   "version": "3.6.9-final"
  },
  "orig_nbformat": 2,
  "kernelspec": {
   "name": "python3",
   "display_name": "Python 3.6.9 64-bit",
   "metadata": {
    "interpreter": {
     "hash": "31f2aee4e71d21fbe5cf8b01ff0e069b9275f58929596ceb00d14d90e3e16cd6"
    }
   }
  }
 },
 "nbformat": 4,
 "nbformat_minor": 2,
 "cells": [
  {
   "cell_type": "code",
   "execution_count": 18,
   "metadata": {},
   "outputs": [],
   "source": [
    "class AssemblyLines:\n",
    "    timeStation = [[7,9,3,4,8,4],[8,5,6,4,5,7]]\n",
    "    timeBelt = [[2,2,3,1,3,4,3],[4,2,1,2,2,1,2]]\n",
    "    intCount = 0\n",
    "    def Scheduling(self, idxLine, idxStation):\n",
    "        print(\"Calculate scheduling: line, station : \", idxLine, idxStation, \"(\", self.intCount, \"recursion calls\")\n",
    "        self.intCount = self.intCount + 1\n",
    "        if idxStation == 0:\n",
    "            if idxLine == 1:\n",
    "                return self.timeBelt[0][0] + self.timeStation[0][0]\n",
    "            elif idxLine == 2:\n",
    "                return self.timeBelt[1][0] + self.timeStation[1][0]\n",
    "        if idxLine == 1:\n",
    "            costLine1 = self.Scheduling(1, idxStation -1) + self.timeStation[0][idxStation]\n",
    "            costLine2 = self.Scheduling(2, idxStation -1) + self.timeStation[0][idxStation] + self.timeBelt[1][idxStation]\n",
    "        elif idxLine == 2:\n",
    "            costLine1 = self.Scheduling(1, idxStation -1) + self.timeStation[1][idxStation] + self.timeBelt[0][idxStation]\n",
    "            costLine2 = self.Scheduling(2, idxStation -1) + self.timeStation[1][idxStation]\n",
    "        if costLine1 > costLine2:\n",
    "            return costLine2\n",
    "        else:\n",
    "            return costLine1\n",
    "\n",
    "    def startScheduling(self):\n",
    "        numStation = len(self.timeStation[0])\n",
    "        costLine1 = self.Scheduling(1, numStation - 1) + self.timeBelt[0][numStation]\n",
    "        costLine2 = self.Scheduling(2, numStation - 1) + self.timeBelt[1][numStation]\n",
    "        if costLine1 > costLine2:\n",
    "            return costLine2\n",
    "        else:\n",
    "            return costLine1"
   ]
  },
  {
   "cell_type": "code",
   "execution_count": 19,
   "metadata": {},
   "outputs": [
    {
     "output_type": "stream",
     "name": "stdout",
     "text": [
      "Calculate scheduling: line, station :  1 5 ( 0 recursion calls\nCalculate scheduling: line, station :  1 4 ( 1 recursion calls\nCalculate scheduling: line, station :  1 3 ( 2 recursion calls\nCalculate scheduling: line, station :  1 2 ( 3 recursion calls\nCalculate scheduling: line, station :  1 1 ( 4 recursion calls\nCalculate scheduling: line, station :  1 0 ( 5 recursion calls\nCalculate scheduling: line, station :  2 0 ( 6 recursion calls\nCalculate scheduling: line, station :  2 1 ( 7 recursion calls\nCalculate scheduling: line, station :  1 0 ( 8 recursion calls\nCalculate scheduling: line, station :  2 0 ( 9 recursion calls\nCalculate scheduling: line, station :  2 2 ( 10 recursion calls\nCalculate scheduling: line, station :  1 1 ( 11 recursion calls\nCalculate scheduling: line, station :  1 0 ( 12 recursion calls\nCalculate scheduling: line, station :  2 0 ( 13 recursion calls\nCalculate scheduling: line, station :  2 1 ( 14 recursion calls\nCalculate scheduling: line, station :  1 0 ( 15 recursion calls\nCalculate scheduling: line, station :  2 0 ( 16 recursion calls\nCalculate scheduling: line, station :  2 3 ( 17 recursion calls\nCalculate scheduling: line, station :  1 2 ( 18 recursion calls\nCalculate scheduling: line, station :  1 1 ( 19 recursion calls\nCalculate scheduling: line, station :  1 0 ( 20 recursion calls\nCalculate scheduling: line, station :  2 0 ( 21 recursion calls\nCalculate scheduling: line, station :  2 1 ( 22 recursion calls\nCalculate scheduling: line, station :  1 0 ( 23 recursion calls\nCalculate scheduling: line, station :  2 0 ( 24 recursion calls\nCalculate scheduling: line, station :  2 2 ( 25 recursion calls\nCalculate scheduling: line, station :  1 1 ( 26 recursion calls\nCalculate scheduling: line, station :  1 0 ( 27 recursion calls\nCalculate scheduling: line, station :  2 0 ( 28 recursion calls\nCalculate scheduling: line, station :  2 1 ( 29 recursion calls\nCalculate scheduling: line, station :  1 0 ( 30 recursion calls\nCalculate scheduling: line, station :  2 0 ( 31 recursion calls\nCalculate scheduling: line, station :  2 4 ( 32 recursion calls\nCalculate scheduling: line, station :  1 3 ( 33 recursion calls\nCalculate scheduling: line, station :  1 2 ( 34 recursion calls\nCalculate scheduling: line, station :  1 1 ( 35 recursion calls\nCalculate scheduling: line, station :  1 0 ( 36 recursion calls\nCalculate scheduling: line, station :  2 0 ( 37 recursion calls\nCalculate scheduling: line, station :  2 1 ( 38 recursion calls\nCalculate scheduling: line, station :  1 0 ( 39 recursion calls\nCalculate scheduling: line, station :  2 0 ( 40 recursion calls\nCalculate scheduling: line, station :  2 2 ( 41 recursion calls\nCalculate scheduling: line, station :  1 1 ( 42 recursion calls\nCalculate scheduling: line, station :  1 0 ( 43 recursion calls\nCalculate scheduling: line, station :  2 0 ( 44 recursion calls\nCalculate scheduling: line, station :  2 1 ( 45 recursion calls\nCalculate scheduling: line, station :  1 0 ( 46 recursion calls\nCalculate scheduling: line, station :  2 0 ( 47 recursion calls\nCalculate scheduling: line, station :  2 3 ( 48 recursion calls\nCalculate scheduling: line, station :  1 2 ( 49 recursion calls\nCalculate scheduling: line, station :  1 1 ( 50 recursion calls\nCalculate scheduling: line, station :  1 0 ( 51 recursion calls\nCalculate scheduling: line, station :  2 0 ( 52 recursion calls\nCalculate scheduling: line, station :  2 1 ( 53 recursion calls\nCalculate scheduling: line, station :  1 0 ( 54 recursion calls\nCalculate scheduling: line, station :  2 0 ( 55 recursion calls\nCalculate scheduling: line, station :  2 2 ( 56 recursion calls\nCalculate scheduling: line, station :  1 1 ( 57 recursion calls\nCalculate scheduling: line, station :  1 0 ( 58 recursion calls\nCalculate scheduling: line, station :  2 0 ( 59 recursion calls\nCalculate scheduling: line, station :  2 1 ( 60 recursion calls\nCalculate scheduling: line, station :  1 0 ( 61 recursion calls\nCalculate scheduling: line, station :  2 0 ( 62 recursion calls\nCalculate scheduling: line, station :  2 5 ( 63 recursion calls\nCalculate scheduling: line, station :  1 4 ( 64 recursion calls\nCalculate scheduling: line, station :  1 3 ( 65 recursion calls\nCalculate scheduling: line, station :  1 2 ( 66 recursion calls\nCalculate scheduling: line, station :  1 1 ( 67 recursion calls\nCalculate scheduling: line, station :  1 0 ( 68 recursion calls\nCalculate scheduling: line, station :  2 0 ( 69 recursion calls\nCalculate scheduling: line, station :  2 1 ( 70 recursion calls\nCalculate scheduling: line, station :  1 0 ( 71 recursion calls\nCalculate scheduling: line, station :  2 0 ( 72 recursion calls\nCalculate scheduling: line, station :  2 2 ( 73 recursion calls\nCalculate scheduling: line, station :  1 1 ( 74 recursion calls\nCalculate scheduling: line, station :  1 0 ( 75 recursion calls\nCalculate scheduling: line, station :  2 0 ( 76 recursion calls\nCalculate scheduling: line, station :  2 1 ( 77 recursion calls\nCalculate scheduling: line, station :  1 0 ( 78 recursion calls\nCalculate scheduling: line, station :  2 0 ( 79 recursion calls\nCalculate scheduling: line, station :  2 3 ( 80 recursion calls\nCalculate scheduling: line, station :  1 2 ( 81 recursion calls\nCalculate scheduling: line, station :  1 1 ( 82 recursion calls\nCalculate scheduling: line, station :  1 0 ( 83 recursion calls\nCalculate scheduling: line, station :  2 0 ( 84 recursion calls\nCalculate scheduling: line, station :  2 1 ( 85 recursion calls\nCalculate scheduling: line, station :  1 0 ( 86 recursion calls\nCalculate scheduling: line, station :  2 0 ( 87 recursion calls\nCalculate scheduling: line, station :  2 2 ( 88 recursion calls\nCalculate scheduling: line, station :  1 1 ( 89 recursion calls\nCalculate scheduling: line, station :  1 0 ( 90 recursion calls\nCalculate scheduling: line, station :  2 0 ( 91 recursion calls\nCalculate scheduling: line, station :  2 1 ( 92 recursion calls\nCalculate scheduling: line, station :  1 0 ( 93 recursion calls\nCalculate scheduling: line, station :  2 0 ( 94 recursion calls\nCalculate scheduling: line, station :  2 4 ( 95 recursion calls\nCalculate scheduling: line, station :  1 3 ( 96 recursion calls\nCalculate scheduling: line, station :  1 2 ( 97 recursion calls\nCalculate scheduling: line, station :  1 1 ( 98 recursion calls\nCalculate scheduling: line, station :  1 0 ( 99 recursion calls\nCalculate scheduling: line, station :  2 0 ( 100 recursion calls\nCalculate scheduling: line, station :  2 1 ( 101 recursion calls\nCalculate scheduling: line, station :  1 0 ( 102 recursion calls\nCalculate scheduling: line, station :  2 0 ( 103 recursion calls\nCalculate scheduling: line, station :  2 2 ( 104 recursion calls\nCalculate scheduling: line, station :  1 1 ( 105 recursion calls\nCalculate scheduling: line, station :  1 0 ( 106 recursion calls\nCalculate scheduling: line, station :  2 0 ( 107 recursion calls\nCalculate scheduling: line, station :  2 1 ( 108 recursion calls\nCalculate scheduling: line, station :  1 0 ( 109 recursion calls\nCalculate scheduling: line, station :  2 0 ( 110 recursion calls\nCalculate scheduling: line, station :  2 3 ( 111 recursion calls\nCalculate scheduling: line, station :  1 2 ( 112 recursion calls\nCalculate scheduling: line, station :  1 1 ( 113 recursion calls\nCalculate scheduling: line, station :  1 0 ( 114 recursion calls\nCalculate scheduling: line, station :  2 0 ( 115 recursion calls\nCalculate scheduling: line, station :  2 1 ( 116 recursion calls\nCalculate scheduling: line, station :  1 0 ( 117 recursion calls\nCalculate scheduling: line, station :  2 0 ( 118 recursion calls\nCalculate scheduling: line, station :  2 2 ( 119 recursion calls\nCalculate scheduling: line, station :  1 1 ( 120 recursion calls\nCalculate scheduling: line, station :  1 0 ( 121 recursion calls\nCalculate scheduling: line, station :  2 0 ( 122 recursion calls\nCalculate scheduling: line, station :  2 1 ( 123 recursion calls\nCalculate scheduling: line, station :  1 0 ( 124 recursion calls\nCalculate scheduling: line, station :  2 0 ( 125 recursion calls\nFastest production time :  38\n"
     ]
    }
   ],
   "source": [
    "lines = AssemblyLines()\n",
    "time = lines.startScheduling()\n",
    "print(\"Fastest production time : \", time)"
   ]
  },
  {
   "cell_type": "code",
   "execution_count": 35,
   "metadata": {},
   "outputs": [],
   "source": [
    "class AssemblyLinesDP:\n",
    "    timeStation = [[7,9,3,4,8,4],[8,5,6,4,5,7]]\n",
    "    timeBelt = [[2,2,3,1,3,4,3],[4,2,1,2,2,1,2]]\n",
    "\n",
    "    timeScheduling = [list(range(6)),list(range(6))]\n",
    "    stationTracing = [list(range(6)),list(range(6))]\n",
    "    def startSchedulingDP(self):\n",
    "        numStation = len(self.timeStation[0])\n",
    "        self.timeScheduling[0][0] = self.timeStation[0][0] + self.timeBelt[0][0]\n",
    "        self.timeScheduling[1][0] = self.timeStation[1][0] + self.timeBelt[1][0]\n",
    "\n",
    "        for itr in range(1, numStation):\n",
    "            if self.timeScheduling[0][itr -1] > self.timeScheduling[1][itr-1] + self.timeBelt[1][itr]:\n",
    "                self.timeScheduling[0][itr] = self.timeStation[0][itr] + self.timeScheduling[1][itr -1] + self.timeBelt[1][itr]\n",
    "                self.stationTracing[0][itr] = 1\n",
    "            else:\n",
    "                self.timeScheduling[0][itr] = self.timeStation[0][itr] + self.timeScheduling[0][itr -1]\n",
    "                self.stationTracing[0][itr] = 0\n",
    "            \n",
    "            if self.timeScheduling[1][itr -1] > self.timeScheduling[0][itr -1] + self.timeBelt[0][itr]:\n",
    "                self.timeScheduling[1][itr] = self.timeStation[1][itr] + self.timeScheduling[0][itr -1] + self.timeBelt[0][itr]\n",
    "                self.stationTracing[1][itr] = 0\n",
    "            else:\n",
    "                self.timeScheduling[1][itr] = self.timeStation[1][itr] + self.timeScheduling[1][itr - 1]\n",
    "                self.stationTracing[1][itr] = 1\n",
    "            \n",
    "        costLine1 = self.timeScheduling[0][numStation - 1] + self.timeBelt[0][numStation]\n",
    "        costLine2 = self.timeScheduling[1][numStation - 1] + self.timeBelt[1][numStation]\n",
    "\n",
    "        if costLine1 > costLine2:\n",
    "            return costLine2, 1\n",
    "        else:\n",
    "            return costLine1, 0\n",
    "\n",
    "    def printTracing(self, lineTracing):\n",
    "        numStation = len(self.timeStation[0])\n",
    "        print(\"Line :\", lineTracing+1, \", Station :\", numStation)\n",
    "        for itr in range(numStation -1, 0, -1):\n",
    "            lineTracing = self.stationTracing[lineTracing][itr]\n",
    "            print(\"Line :\", lineTracing+1, \", Station :\", itr)"
   ]
  },
  {
   "cell_type": "code",
   "execution_count": 36,
   "metadata": {},
   "outputs": [
    {
     "output_type": "stream",
     "name": "stdout",
     "text": [
      "Fastest production time :  38\nLine : 1 , Station : 6\nLine : 2 , Station : 5\nLine : 2 , Station : 4\nLine : 1 , Station : 3\nLine : 2 , Station : 2\nLine : 1 , Station : 1\n"
     ]
    }
   ],
   "source": [
    "linesDP = AssemblyLinesDP()\n",
    "timeDP, lineTracing = linesDP.startSchedulingDP()\n",
    "print(\"Fastest production time : \", timeDP)\n",
    "linesDP.printTracing(lineTracing)"
   ]
  }
 ]
}