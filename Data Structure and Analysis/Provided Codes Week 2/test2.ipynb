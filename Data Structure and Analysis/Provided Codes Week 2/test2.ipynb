{
 "metadata": {
  "language_info": {
   "codemirror_mode": {
    "name": "ipython",
    "version": 3
   },
   "file_extension": ".py",
   "mimetype": "text/x-python",
   "name": "python",
   "nbconvert_exporter": "python",
   "pygments_lexer": "ipython3",
   "version": "3.6.9-final"
  },
  "orig_nbformat": 2,
  "kernelspec": {
   "name": "python3",
   "display_name": "Python 3",
   "language": "python"
  }
 },
 "nbformat": 4,
 "nbformat_minor": 2,
 "cells": [
  {
   "cell_type": "code",
   "execution_count": 1,
   "metadata": {},
   "outputs": [
    {
     "output_type": "stream",
     "name": "stdout",
     "text": [
      "(3, 4)\n4\n"
     ]
    }
   ],
   "source": [
    "import numpy as np\n",
    "a = np.array([[1,2,1,4],\n",
    "              [5,6,7,8],\n",
    "              [7,4,3,2]])\n",
    "print(np.shape(a))\n",
    "b = np.shape(a)[1]\n",
    "# b = np.shape(a)\n",
    "print(b)"
   ]
  },
  {
   "cell_type": "code",
   "execution_count": 5,
   "metadata": {},
   "outputs": [],
   "source": [
    "import csv\n",
    "\n",
    "f1 = open('word.csv', 'r', encoding=\"ISO-8859-1\")\n",
    "rdr1 = csv.reader(f1)\n",
    "word = []\n",
    "for row in rdr1:\n",
    "    word.append(row)\n",
    "f1.close()\n",
    "word = np.asarray(word)"
   ]
  },
  {
   "cell_type": "code",
   "execution_count": 10,
   "metadata": {},
   "outputs": [
    {
     "output_type": "stream",
     "name": "stdout",
     "text": [
      "[5 6 7 8]\n(array([0, 2]),)\n[0 2]\n(28624, 1)\n[['holes']\n ['top_secret']]\n2\n[[ 1  4  1 16]\n [25 36 49 64]\n [49 16  9  4]]\n"
     ]
    }
   ],
   "source": [
    "dataword = word\n",
    "print(a[1])\n",
    "print(np.where(a[0]==1))\n",
    "print(np.where(a[0]==1)[0])\n",
    "idxword = np.where(a[0]==1)[0]\n",
    "print(np.shape(dataword))\n",
    "print(dataword[idxword])\n",
    "print(len(idxword))\n",
    "print(np.square(a))"
   ]
  }
 ]
}