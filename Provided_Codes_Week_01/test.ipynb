{
 "metadata": {
  "language_info": {
   "codemirror_mode": {
    "name": "ipython",
    "version": 3
   },
   "file_extension": ".py",
   "mimetype": "text/x-python",
   "name": "python",
   "nbconvert_exporter": "python",
   "pygments_lexer": "ipython3",
   "version": "3.6.9-final"
  },
  "orig_nbformat": 2,
  "kernelspec": {
   "name": "python3",
   "display_name": "Python 3.6.9 64-bit",
   "metadata": {
    "interpreter": {
     "hash": "31f2aee4e71d21fbe5cf8b01ff0e069b9275f58929596ceb00d14d90e3e16cd6"
    }
   }
  }
 },
 "nbformat": 4,
 "nbformat_minor": 2,
 "cells": [
  {
   "cell_type": "code",
   "execution_count": 34,
   "metadata": {},
   "outputs": [],
   "source": [
    "class Father():\n",
    "    strHometown = 'jeju'\n",
    "    def __init__(self):\n",
    "        print('Father is created')\n",
    "    def doFatherThing(self):\n",
    "        print(\"Father's action\")\n",
    "    def doRunning(self):\n",
    "        print('Slow')\n",
    "\n",
    "class Mother():\n",
    "    strHometown = 'Seoul'\n",
    "    def __init__(self):\n",
    "        print('Mother is created')\n",
    "        self.mohito = \"mohito\"\n",
    "    def doMotherThing(self):\n",
    "        print(\"Mother's action\")\n",
    "        print(self.mohito)\n",
    "\n",
    "# class Child(Father,Mother):\n",
    "class Child(Mother, Father):\n",
    "    strName = \"Moon\"\n",
    "    def __init__(self, paraName):\n",
    "        super(Child,self).__init__()\n",
    "        self.strName = paraName\n",
    "        print(\"Child is created\")\n",
    "    def doRunning(self):\n",
    "        print(\"Fast\")"
   ]
  },
  {
   "cell_type": "code",
   "execution_count": 35,
   "metadata": {},
   "outputs": [
    {
     "output_type": "stream",
     "name": "stdout",
     "text": [
      "Mother is created\nChild is created\nMother's action\nmohito\n"
     ]
    }
   ],
   "source": [
    "me = Child(\"Sun\")\n",
    "me.doMotherThing()"
   ]
  },
  {
   "cell_type": "code",
   "execution_count": 36,
   "metadata": {},
   "outputs": [
    {
     "output_type": "stream",
     "name": "stdout",
     "text": [
      "GrandParent\nParent B\nParent A\nChild\n"
     ]
    }
   ],
   "source": [
    "class GrandParent :\n",
    "    def __init__(self):\n",
    "        super(GrandParent, self).__init__()\n",
    "        print(\"GrandParent\")\n",
    "        \n",
    "class ParentA(GrandParent) :\n",
    "    def __init__(self):\n",
    "        super(ParentA, self).__init__()\n",
    "        print(\"Parent A\")\n",
    "        \n",
    "class ParentB(GrandParent) :\n",
    "    def __init__(self):\n",
    "        super(ParentB, self).__init__()\n",
    "        print(\"Parent B\")        \n",
    "        \n",
    "class Child(ParentA, ParentB):\n",
    "    def __init__(self):\n",
    "        super(Child, self).__init__()\n",
    "        print(\"Child\")        \n",
    "\n",
    "child = Child()"
   ]
  },
  {
   "cell_type": "code",
   "execution_count": 41,
   "metadata": {},
   "outputs": [
    {
     "output_type": "stream",
     "name": "stdout",
     "text": [
      "Parent A\nParent B\nChild\n"
     ]
    }
   ],
   "source": [
    "class ParentA() :\n",
    "    def __init__(self):\n",
    "        print(\"Parent A\")\n",
    "        \n",
    "class ParentB() :\n",
    "    def __init__(self):\n",
    "        print(\"Parent B\")        \n",
    "        \n",
    "class Child(ParentA, ParentB):\n",
    "    def __init__(self):\n",
    "        ParentA.__init__(self)\n",
    "        ParentB.__init__(self)\n",
    "        print(\"Child\")        \n",
    "\n",
    "child = Child()"
   ]
  }
 ]
}