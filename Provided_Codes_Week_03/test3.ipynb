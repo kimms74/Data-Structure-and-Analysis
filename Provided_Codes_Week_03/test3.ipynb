{
 "metadata": {
  "language_info": {
   "codemirror_mode": {
    "name": "ipython",
    "version": 3
   },
   "file_extension": ".py",
   "mimetype": "text/x-python",
   "name": "python",
   "nbconvert_exporter": "python",
   "pygments_lexer": "ipython3",
   "version": "3.6.7-final"
  },
  "orig_nbformat": 2,
  "kernelspec": {
   "name": "python3",
   "display_name": "Python 3",
   "language": "python"
  }
 },
 "nbformat": 4,
 "nbformat_minor": 2,
 "cells": [
  {
   "cell_type": "code",
   "execution_count": 3,
   "metadata": {},
   "outputs": [],
   "source": [
    "class Node:\n",
    "    nodeNext = None\n",
    "    nodePrev = ''\n",
    "    objValue = ''\n",
    "    binHead = False\n",
    "    binTail = False\n",
    "\n",
    "    def __init__(self, objValue = '', nodeNext = None, binHead = False, binTail = False):\n",
    "        self.nodeNext = nodeNext\n",
    "        self.objValue = objValue \n",
    "        self.binHead = binHead\n",
    "        self.binTail = binTail\n",
    "    \n",
    "    def getValue(self):\n",
    "        return self.objValue\n",
    "    def setValue(self, objValue):\n",
    "        self.objValue = objValue\n",
    "    def getNext(self):\n",
    "        return self.nodeNext\n",
    "    def setNext(self, nodeNext):\n",
    "        self.nodeNext = nodeNext\n",
    "    def isHead(self):\n",
    "        return self.binHead\n",
    "    def isTail(self):\n",
    "        return self.binTail\n",
    "    "
   ]
  },
  {
   "cell_type": "code",
   "execution_count": 5,
   "metadata": {},
   "outputs": [],
   "source": [
    "class SignlyLinkedList:\n",
    "    nodeHead = ''\n",
    "    nodeTail = ''\n",
    "    size = 0\n",
    "\n",
    "    def __init__(self):\n",
    "        self.nodeTail = Node(binTail = True)\n",
    "        self.nodeHead = Node(binHead = True, nodeNext = self.nodeTail)\n",
    "\n",
    "    def insertAt(self, objInsert, idxInsert):\n",
    "        nodeNew = Node(objValue = objInsert)\n",
    "        nodePrev = self.get(idxInsert - 1)\n",
    "        nodeNext = nodePrev.getNext()\n",
    "        nodePrev.setNext(nodeNew)\n",
    "        nodeNew.setNext(nodeNext)\n",
    "        self.size = self.size + 1\n",
    "\n",
    "    def removeAt(self,idxRemove):\n",
    "        nodePrev = self.get(idxRemove - 1)\n",
    "        nodeRemove = nodePrev.getNext()\n",
    "        nodeNext = nodeRemove.getNext()\n",
    "        nodePrev.setNext(nodeNext)\n",
    "        self.size = self.size - 1\n",
    "        return nodeRemove.getValue()\n",
    "\n",
    "    def get(self, idxRetrieve):\n",
    "        nodeReturn = self.nodeHead\n",
    "        for itr in range(idxRetrieve + 1):\n",
    "            nodeReturn = nodeReturn.getNext()\n",
    "        return nodeReturn\n",
    "\n",
    "    def printStatus(self):\n",
    "        nodeCurrent = self.nodeHead\n",
    "        while nodeCurrent.getNext().isTail() == False:\n",
    "            nodeCurrent = nodeCurrent.getNext()\n",
    "            print(nodeCurrent.getValue(), end = \" \")\n",
    "        print(\"\")\n",
    "\n",
    "    def getSize(self):\n",
    "        return self.size"
   ]
  },
  {
   "cell_type": "code",
   "execution_count": 6,
   "metadata": {},
   "outputs": [],
   "source": [
    "class Stack(object):\n",
    "    lstInstance = SignlyLinkedList()\n",
    "    def pop(self):\n",
    "        return self.lstInstance.removeAt(0)\n",
    "    def push(self, value):\n",
    "        self.lstInstance.insertAt(value,0)"
   ]
  },
  {
   "cell_type": "code",
   "execution_count": 7,
   "metadata": {},
   "outputs": [
    {
     "output_type": "stream",
     "name": "stdout",
     "text": [
      "c\nb\na\n"
     ]
    }
   ],
   "source": [
    "stack = Stack()\n",
    "stack.push(\"a\")\n",
    "stack.push(\"b\")\n",
    "stack.push(\"c\")\n",
    "\n",
    "print(stack.pop())\n",
    "print(stack.pop())\n",
    "print(stack.pop())"
   ]
  },
  {
   "cell_type": "code",
   "execution_count": null,
   "metadata": {},
   "outputs": [],
   "source": [
    "class Queue(object):\n",
    "    lstInstance = SignlyLinkedList()\n",
    "    def dequeue(self):\n",
    "        return self.lstInstance.removeAt(0)\n",
    "    def enqueue(self,value):\n",
    "        self.lstInstance.insertAt(value,self.lstInstance.getSize())"
   ]
  }
 ]
}